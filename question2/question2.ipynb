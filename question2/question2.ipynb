{
 "cells": [
  {
   "cell_type": "markdown",
   "metadata": {},
   "source": [
    "# Question 2"
   ]
  },
  {
   "cell_type": "markdown",
   "metadata": {},
   "source": [
    "We first make a function that calculates the product of a list."
   ]
  },
  {
   "cell_type": "code",
   "execution_count": 1,
   "metadata": {},
   "outputs": [],
   "source": [
    "def prod(l):\n",
    "    product = 1\n",
    "    for n in l:\n",
    "        product *= n\n",
    "    return product"
   ]
  },
  {
   "cell_type": "markdown",
   "metadata": {},
   "source": [
    "Using this, we can define a binomial coefficient function."
   ]
  },
  {
   "cell_type": "code",
   "execution_count": 2,
   "metadata": {},
   "outputs": [],
   "source": [
    "def choose(n, k):\n",
    "    if type(n) != int or type(k) != int:\n",
    "        raise TypeError('n and k must have type int')\n",
    "    elif not (n >= k >= 0):\n",
    "        raise ValueError('must have n >= k >= 0')\n",
    "    elif k == 0:\n",
    "        return 1\n",
    "    else:\n",
    "        x = range(k+1, n+1)\n",
    "        y = range(1, n-k+1)\n",
    "        return prod(x) // prod(y)"
   ]
  },
  {
   "cell_type": "markdown",
   "metadata": {},
   "source": [
    "This can be used to generate Pascal's triangle."
   ]
  },
  {
   "cell_type": "code",
   "execution_count": 3,
   "metadata": {},
   "outputs": [],
   "source": [
    "pascal = [[choose(i,j) for j in range(i+1)] for i in range(20)] # Pascal's triangle"
   ]
  },
  {
   "cell_type": "code",
   "execution_count": 4,
   "metadata": {},
   "outputs": [
    {
     "name": "stdout",
     "output_type": "stream",
     "text": [
      "                                               1                                               \n",
      "                                              1 1                                              \n",
      "                                             1 2 1                                             \n",
      "                                            1 3 3 1                                            \n",
      "                                           1 4 6 4 1                                           \n",
      "                                         1 5 10 10 5 1                                         \n",
      "                                        1 6 15 20 15 6 1                                       \n",
      "                                      1 7 21 35 35 21 7 1                                      \n",
      "                                     1 8 28 56 70 56 28 8 1                                    \n",
      "                                  1 9 36 84 126 126 84 36 9 1                                  \n",
      "                              1 10 45 120 210 252 210 120 45 10 1                              \n",
      "                            1 11 55 165 330 462 462 330 165 55 11 1                            \n",
      "                          1 12 66 220 495 792 924 792 495 220 66 12 1                          \n",
      "                      1 13 78 286 715 1287 1716 1716 1287 715 286 78 13 1                      \n",
      "                   1 14 91 364 1001 2002 3003 3432 3003 2002 1001 364 91 14 1                  \n",
      "               1 15 105 455 1365 3003 5005 6435 6435 5005 3003 1365 455 105 15 1               \n",
      "           1 16 120 560 1820 4368 8008 11440 12870 11440 8008 4368 1820 560 120 16 1           \n",
      "       1 17 136 680 2380 6188 12376 19448 24310 24310 19448 12376 6188 2380 680 136 17 1       \n",
      "    1 18 153 816 3060 8568 18564 31824 43758 48620 43758 31824 18564 8568 3060 816 153 18 1    \n",
      "1 19 171 969 3876 11628 27132 50388 75582 92378 92378 75582 50388 27132 11628 3876 969 171 19 1\n"
     ]
    }
   ],
   "source": [
    "strings = [' '.join(map(str, line)) for line in pascal] # convert each line of pascal to a string\n",
    "maxwidth = max(map(len, strings)) # maximum line width\n",
    "for string in strings:\n",
    "    print string.center(maxwidth)"
   ]
  },
  {
   "cell_type": "markdown",
   "metadata": {},
   "source": [
    "Now, we can define a function that calculates the probability of at least k successes in n trials with success probability p."
   ]
  },
  {
   "cell_type": "code",
   "execution_count": 5,
   "metadata": {},
   "outputs": [],
   "source": [
    "def pcoin(p, n, k):\n",
    "    prob = 0\n",
    "    for i in range(k, n+1):\n",
    "        prob += choose(n, i) * p**i * (1-p)**(n-i) # sum the probabilities of getting k or more successes\n",
    "    return prob"
   ]
  },
  {
   "cell_type": "markdown",
   "metadata": {},
   "source": [
    "The probability of success in the example application is then given by:"
   ]
  },
  {
   "cell_type": "code",
   "execution_count": 6,
   "metadata": {},
   "outputs": [
    {
     "data": {
      "text/plain": [
       "0.68359375"
      ]
     },
     "execution_count": 6,
     "metadata": {},
     "output_type": "execute_result"
    }
   ],
   "source": [
    "pcoin(0.25, 4, 1)"
   ]
  },
  {
   "cell_type": "markdown",
   "metadata": {},
   "source": [
    "We can check this result by simulating the experiment $N \\in \\{10, 100, 1000\\}$ times."
   ]
  },
  {
   "cell_type": "code",
   "execution_count": 7,
   "metadata": {},
   "outputs": [],
   "source": [
    "import numpy as np\n",
    "import matplotlib.pyplot as plt"
   ]
  },
  {
   "cell_type": "code",
   "execution_count": 8,
   "metadata": {},
   "outputs": [],
   "source": [
    "p = 0.25\n",
    "n = 4\n",
    "k = 1\n",
    "N = [10, 100, 1000]"
   ]
  },
  {
   "cell_type": "code",
   "execution_count": 9,
   "metadata": {},
   "outputs": [
    {
     "data": {
      "image/png": "[encoded data removed]",
      "text/plain": [
       "<Figure size 432x288 with 3 Axes>"
      ]
     },
     "metadata": {},
     "output_type": "display_data"
    }
   ],
   "source": [
    "fig, ax = plt.subplots(1, len(N))\n",
    "for i in range(len(N)):\n",
    "    x = np.random.random((N[i], n)) # N[i] x n array of random values in [0,1]\n",
    "    y = (x < p).sum(1)              # number of individual successful trials\n",
    "    s = (y >= k).sum()              # number of tests achieving at least k successes\n",
    "    \n",
    "    patches, texts, autotexts = ax[i].pie([s, N[i]-s], autopct = '%.1f%%') # create a pie chart for each N\n",
    "    [autotexts[j].set_fontsize(15) for j in range(2)]\n",
    "    ax[i].set_title('$N = ' + str(N[i]) + '$', fontsize = 15)\n",
    "\n",
    "legend = ax[2].legend(labels = ['Successes', 'Failures'])\n",
    "fig.suptitle('Fraction of Successes in $N$ Attempts', fontsize = 20, x = 1.05, y = 1.2)\n",
    "fig.subplots_adjust(left = 0, right = 2.1, bottom = 0, top = 1, wspace = 0.1)"
   ]
  },
  {
   "cell_type": "markdown",
   "metadata": {},
   "source": [
    "So we can see that the simulated probability approaches the theoretical probability as $N$ becomes large."
   ]
  }
 ],
 "metadata": {
  "kernelspec": {
   "display_name": "Python 2",
   "language": "python",
   "name": "python2"
  },
  "language_info": {
   "codemirror_mode": {
    "name": "ipython",
    "version": 2
   },
   "file_extension": ".py",
   "mimetype": "text/x-python",
   "name": "python",
   "nbconvert_exporter": "python",
   "pygments_lexer": "ipython2",
   "version": "2.7.13"
  }
 },
 "nbformat": 4,
 "nbformat_minor": 2
}
